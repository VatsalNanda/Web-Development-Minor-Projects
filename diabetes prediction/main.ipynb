{
 "cells": [
  {
   "cell_type": "code",
   "execution_count": 1,
   "id": "7fb533bc",
   "metadata": {},
   "outputs": [],
   "source": [
    "#Description: This program detects whether or not you have diabetes using ML"
   ]
  },
  {
   "cell_type": "code",
   "execution_count": 16,
   "id": "3bb96726",
   "metadata": {},
   "outputs": [],
   "source": [
    "import pandas as pd\n",
    "from sklearn.metrics import accuracy_score\n",
    "from sklearn.model_selection import train_test_split\n",
    "from sklearn.ensemble import RandomForestClassifier\n",
    "from PIL import Image\n",
    "import streamlit as st"
   ]
  },
  {
   "cell_type": "code",
   "execution_count": 17,
   "id": "00c478a4",
   "metadata": {},
   "outputs": [],
   "source": [
    "st.write(\"\"\"\n",
    "#Diabetes Detection\n",
    "Detect if someone has diabetes using machine learning and python!\n",
    "\"\"\")"
   ]
  },
  {
   "cell_type": "code",
   "execution_count": 18,
   "id": "fbd20f18",
   "metadata": {},
   "outputs": [
    {
     "data": {
      "text/plain": [
       "DeltaGenerator(_root_container=0, _provided_cursor=None, _parent=None, _block_type=None, _form_data=None)"
      ]
     },
     "execution_count": 18,
     "metadata": {},
     "output_type": "execute_result"
    }
   ],
   "source": [
    "image=Image.open('diabetes.jpeg')\n",
    "st.image(image,caption='ML',use_column_width=True)"
   ]
  },
  {
   "cell_type": "code",
   "execution_count": 19,
   "id": "0b6a39cd",
   "metadata": {},
   "outputs": [],
   "source": [
    "df=pd.read_csv('diabetes.csv')"
   ]
  },
  {
   "cell_type": "code",
   "execution_count": 20,
   "id": "88aa03be",
   "metadata": {},
   "outputs": [
    {
     "data": {
      "text/html": [
       "<div>\n",
       "<style scoped>\n",
       "    .dataframe tbody tr th:only-of-type {\n",
       "        vertical-align: middle;\n",
       "    }\n",
       "\n",
       "    .dataframe tbody tr th {\n",
       "        vertical-align: top;\n",
       "    }\n",
       "\n",
       "    .dataframe thead th {\n",
       "        text-align: right;\n",
       "    }\n",
       "</style>\n",
       "<table border=\"1\" class=\"dataframe\">\n",
       "  <thead>\n",
       "    <tr style=\"text-align: right;\">\n",
       "      <th></th>\n",
       "      <th>Pregnancies</th>\n",
       "      <th>Glucose</th>\n",
       "      <th>BloodPressure</th>\n",
       "      <th>SkinThickness</th>\n",
       "      <th>Insulin</th>\n",
       "      <th>BMI</th>\n",
       "      <th>DiabetesPedigreeFunction</th>\n",
       "      <th>Age</th>\n",
       "      <th>Outcome</th>\n",
       "    </tr>\n",
       "  </thead>\n",
       "  <tbody>\n",
       "    <tr>\n",
       "      <th>0</th>\n",
       "      <td>6</td>\n",
       "      <td>148</td>\n",
       "      <td>72</td>\n",
       "      <td>35</td>\n",
       "      <td>0</td>\n",
       "      <td>33.6</td>\n",
       "      <td>0.627</td>\n",
       "      <td>50</td>\n",
       "      <td>1</td>\n",
       "    </tr>\n",
       "    <tr>\n",
       "      <th>1</th>\n",
       "      <td>1</td>\n",
       "      <td>85</td>\n",
       "      <td>66</td>\n",
       "      <td>29</td>\n",
       "      <td>0</td>\n",
       "      <td>26.6</td>\n",
       "      <td>0.351</td>\n",
       "      <td>31</td>\n",
       "      <td>0</td>\n",
       "    </tr>\n",
       "    <tr>\n",
       "      <th>2</th>\n",
       "      <td>8</td>\n",
       "      <td>183</td>\n",
       "      <td>64</td>\n",
       "      <td>0</td>\n",
       "      <td>0</td>\n",
       "      <td>23.3</td>\n",
       "      <td>0.672</td>\n",
       "      <td>32</td>\n",
       "      <td>1</td>\n",
       "    </tr>\n",
       "    <tr>\n",
       "      <th>3</th>\n",
       "      <td>1</td>\n",
       "      <td>89</td>\n",
       "      <td>66</td>\n",
       "      <td>23</td>\n",
       "      <td>94</td>\n",
       "      <td>28.1</td>\n",
       "      <td>0.167</td>\n",
       "      <td>21</td>\n",
       "      <td>0</td>\n",
       "    </tr>\n",
       "    <tr>\n",
       "      <th>4</th>\n",
       "      <td>0</td>\n",
       "      <td>137</td>\n",
       "      <td>40</td>\n",
       "      <td>35</td>\n",
       "      <td>168</td>\n",
       "      <td>43.1</td>\n",
       "      <td>2.288</td>\n",
       "      <td>33</td>\n",
       "      <td>1</td>\n",
       "    </tr>\n",
       "  </tbody>\n",
       "</table>\n",
       "</div>"
      ],
      "text/plain": [
       "   Pregnancies  Glucose  BloodPressure  SkinThickness  Insulin   BMI  \\\n",
       "0            6      148             72             35        0  33.6   \n",
       "1            1       85             66             29        0  26.6   \n",
       "2            8      183             64              0        0  23.3   \n",
       "3            1       89             66             23       94  28.1   \n",
       "4            0      137             40             35      168  43.1   \n",
       "\n",
       "   DiabetesPedigreeFunction  Age  Outcome  \n",
       "0                     0.627   50        1  \n",
       "1                     0.351   31        0  \n",
       "2                     0.672   32        1  \n",
       "3                     0.167   21        0  \n",
       "4                     2.288   33        1  "
      ]
     },
     "execution_count": 20,
     "metadata": {},
     "output_type": "execute_result"
    }
   ],
   "source": [
    "df.head()"
   ]
  },
  {
   "cell_type": "code",
   "execution_count": 21,
   "id": "db6d270f",
   "metadata": {},
   "outputs": [],
   "source": [
    "#Sub header\n",
    "st.subheader('Data Information:')\n",
    "st.dataframe(df)\n",
    "st.write(df.describe())\n",
    "chart=st.bar_chart(df)"
   ]
  },
  {
   "cell_type": "code",
   "execution_count": 22,
   "id": "ef872e1a",
   "metadata": {},
   "outputs": [],
   "source": [
    "#Split the data into X and Y\n",
    "\n",
    "X=df.iloc[:,0:8].values # first 8 coloumns\n",
    "Y=df.iloc[:,-1].values # last column"
   ]
  },
  {
   "cell_type": "code",
   "execution_count": 23,
   "id": "1f64e577",
   "metadata": {},
   "outputs": [],
   "source": [
    "#split data into 75% training and 25% testing\n",
    "X_train, X_test, Y_train, Y_test=train_test_split(X,Y,test_size=0.25,random_state=0)"
   ]
  },
  {
   "cell_type": "code",
   "execution_count": 24,
   "id": "7f786f19",
   "metadata": {},
   "outputs": [],
   "source": [
    "def get_input():\n",
    "    Pregnancies=st.sidebar.slider('pregnancies',0,17,3)\n",
    "    Glucose=st.sidebar.slider('Glucose',0,199,117)\n",
    "    BloodPressure=st.sidebar.slider('BloodPressure',0,122,172)\n",
    "    SkinThickness=st.sidebar.slider('SkinThickness',0,99,23)\n",
    "    Insulin=st.sidebar.slider('Insulin',0.0,846.0,30.0)\n",
    "    BMI=st.sidebar.slider('BMI',0.0,67.1,32.0)\n",
    "    DiabetesPedigreeFunction=st.sidebar.slider('DiabetesPedigreeFunction',0.078,2.42,0.3725)\n",
    "    Age=st.sidebar.slider('Age',21,81,29)\n",
    "    \n",
    "    #dictionary\n",
    "    user_data={'pregnancies':Pregnancies,\n",
    "               'Glucose':Glucose,\n",
    "               'BloodPressure':BloodPressure,\n",
    "               'SkinThickness':SkinThickness,\n",
    "               'Insulin':Insulin,\n",
    "               'BMI':BMI,\n",
    "               'DiabetesPedigreeFunction':DiabetesPedigreeFunction,\n",
    "               'Age':Age\n",
    "               }\n",
    "    \n",
    "    \n",
    "    #Transform the data into a data frame\n",
    "    \n",
    "    features=pd.DataFrame(user_data,index=[0])\n",
    "    \n",
    "    return features"
   ]
  },
  {
   "cell_type": "code",
   "execution_count": 25,
   "id": "0684801d",
   "metadata": {},
   "outputs": [],
   "source": [
    "#Store input in a variable\n",
    "user_input=get_input()"
   ]
  },
  {
   "cell_type": "code",
   "execution_count": 26,
   "id": "5491b801",
   "metadata": {},
   "outputs": [],
   "source": [
    "#Display the user input\n",
    "st.subheader('User Input:')\n",
    "st.write(user_input)"
   ]
  },
  {
   "cell_type": "code",
   "execution_count": 27,
   "id": "5534e1c6",
   "metadata": {},
   "outputs": [
    {
     "data": {
      "text/plain": [
       "RandomForestClassifier()"
      ]
     },
     "execution_count": 27,
     "metadata": {},
     "output_type": "execute_result"
    }
   ],
   "source": [
    "# Create and train the model\n",
    "#Model-1\n",
    "RandomForestClassifier= RandomForestClassifier()\n",
    "RandomForestClassifier.fit(X_train,Y_train)"
   ]
  },
  {
   "cell_type": "code",
   "execution_count": 32,
   "id": "c52b08f0",
   "metadata": {},
   "outputs": [],
   "source": [
    "#Show model metrics\n",
    "st.subheader('RandomForestClassifier Test Accuracy Score:')\n",
    "st.write(str(accuracy_score(Y_test,RandomForestClassifier.predict(X_test))*100)+'%')"
   ]
  },
  {
   "cell_type": "code",
   "execution_count": 33,
   "id": "0c0f3c92",
   "metadata": {},
   "outputs": [],
   "source": [
    "prediction=RandomForestClassifier.predict(user_input)"
   ]
  },
  {
   "cell_type": "code",
   "execution_count": 34,
   "id": "737dd03a",
   "metadata": {},
   "outputs": [],
   "source": [
    "st.subheader('Classification ')\n",
    "st.write(prediction)"
   ]
  },
  {
   "cell_type": "code",
   "execution_count": 45,
   "id": "49d06aa5",
   "metadata": {},
   "outputs": [],
   "source": [
    "#Model-2\n",
    "from sklearn.naive_bayes import MultinomialNB\n",
    "mnb = MultinomialNB().fit(X_train,Y_train)"
   ]
  },
  {
   "cell_type": "code",
   "execution_count": 71,
   "id": "cd48fbd3",
   "metadata": {},
   "outputs": [],
   "source": [
    "#Show model metrics\n",
    "st.subheader('Naive Bayes Test Accuracy Score:')\n",
    "st.write(str(accuracy_score(Y_test,mnb.predict(X_test))*100)+'%')"
   ]
  },
  {
   "cell_type": "code",
   "execution_count": 72,
   "id": "e88fa4bb",
   "metadata": {},
   "outputs": [],
   "source": [
    "prediction1=mnb.predict(user_input)"
   ]
  },
  {
   "cell_type": "code",
   "execution_count": 73,
   "id": "d2cd5961",
   "metadata": {},
   "outputs": [],
   "source": [
    "st.subheader('Classification naive Bayes ')\n",
    "st.write(prediction1)"
   ]
  },
  {
   "cell_type": "code",
   "execution_count": 74,
   "id": "5ae0567c",
   "metadata": {},
   "outputs": [
    {
     "data": {
      "text/plain": [
       "LogisticRegression(max_iter=1000)"
      ]
     },
     "execution_count": 74,
     "metadata": {},
     "output_type": "execute_result"
    }
   ],
   "source": [
    "#Model-3\n",
    "from sklearn.linear_model import LogisticRegression\n",
    "lr=LogisticRegression(max_iter=1000)\n",
    "lr.fit(X_train,Y_train)"
   ]
  },
  {
   "cell_type": "code",
   "execution_count": 75,
   "id": "7bc96c45",
   "metadata": {},
   "outputs": [],
   "source": [
    "st.subheader('LogisticRegression Test Accuracy Score:')\n",
    "st.write(str(accuracy_score(Y_test,lr.predict(X_test))*100)+'%')"
   ]
  },
  {
   "cell_type": "code",
   "execution_count": 76,
   "id": "7b5f5988",
   "metadata": {},
   "outputs": [],
   "source": [
    "prediction2=lr.predict(user_input)"
   ]
  },
  {
   "cell_type": "code",
   "execution_count": 77,
   "id": "7c8e9616",
   "metadata": {},
   "outputs": [],
   "source": [
    "st.subheader('Classification logistic Regression ')\n",
    "st.write(prediction2)"
   ]
  },
  {
   "cell_type": "code",
   "execution_count": 78,
   "id": "76bf5d12",
   "metadata": {},
   "outputs": [
    {
     "data": {
      "text/plain": [
       "KNeighborsClassifier(algorithm='brute', n_jobs=-1)"
      ]
     },
     "execution_count": 78,
     "metadata": {},
     "output_type": "execute_result"
    }
   ],
   "source": [
    "#Model -4\n",
    "from sklearn.neighbors import KNeighborsClassifier\n",
    "knn = KNeighborsClassifier(algorithm = 'brute', n_jobs=-1)\n",
    "knn.fit(X_train,Y_train)"
   ]
  },
  {
   "cell_type": "code",
   "execution_count": 79,
   "id": "267b05b8",
   "metadata": {},
   "outputs": [],
   "source": [
    "st.subheader('KNeighborsClassifier Test Accuracy Score:')\n",
    "st.write(str(accuracy_score(Y_test,knn.predict(X_test))*100)+'%')"
   ]
  },
  {
   "cell_type": "code",
   "execution_count": 80,
   "id": "3447c5e8",
   "metadata": {},
   "outputs": [],
   "source": [
    "prediction3=knn.predict(user_input)"
   ]
  },
  {
   "cell_type": "code",
   "execution_count": 81,
   "id": "fac7ecb6",
   "metadata": {},
   "outputs": [],
   "source": [
    "st.subheader('Classification KNeighborsClassifier ')\n",
    "st.write(prediction3)"
   ]
  },
  {
   "cell_type": "code",
   "execution_count": 82,
   "id": "d3987d1d",
   "metadata": {},
   "outputs": [
    {
     "name": "stderr",
     "output_type": "stream",
     "text": [
      "/opt/anaconda3/lib/python3.8/site-packages/sklearn/svm/_base.py:985: ConvergenceWarning: Liblinear failed to converge, increase the number of iterations.\n",
      "  warnings.warn(\"Liblinear failed to converge, increase \"\n"
     ]
    },
    {
     "data": {
      "text/plain": [
       "LinearSVC(C=0.0001)"
      ]
     },
     "execution_count": 82,
     "metadata": {},
     "output_type": "execute_result"
    }
   ],
   "source": [
    "#Model-5\n",
    "from sklearn.svm import LinearSVC\n",
    "svm=LinearSVC(C=0.0001)\n",
    "svm.fit(X_train,Y_train)\n"
   ]
  },
  {
   "cell_type": "code",
   "execution_count": 84,
   "id": "0227f1ed",
   "metadata": {},
   "outputs": [],
   "source": [
    "st.subheader('LinearSVCTest Accuracy Score:')\n",
    "st.write(str(accuracy_score(Y_test,svm.predict(X_test))*100)+'%')"
   ]
  },
  {
   "cell_type": "code",
   "execution_count": 85,
   "id": "592b5cc9",
   "metadata": {},
   "outputs": [],
   "source": [
    "prediction4=svm.predict(user_input)"
   ]
  },
  {
   "cell_type": "code",
   "execution_count": 86,
   "id": "50c0c6f6",
   "metadata": {},
   "outputs": [],
   "source": [
    "st.subheader('Classification KNeighborsClassifier ')\n",
    "st.write(prediction4)"
   ]
  },
  {
   "cell_type": "code",
   "execution_count": 69,
   "id": "381b5907",
   "metadata": {},
   "outputs": [
    {
     "data": {
      "text/plain": [
       "DecisionTreeClassifier()"
      ]
     },
     "execution_count": 69,
     "metadata": {},
     "output_type": "execute_result"
    }
   ],
   "source": [
    "#Model -6\n",
    "from sklearn.tree import DecisionTreeClassifier\n",
    "clf = DecisionTreeClassifier()\n",
    "clf.fit(X_train,Y_train)"
   ]
  },
  {
   "cell_type": "code",
   "execution_count": 87,
   "id": "62d12fc5",
   "metadata": {},
   "outputs": [],
   "source": [
    "st.subheader('DecisionTreeClassifier Accuracy Score:')\n",
    "st.write(str(accuracy_score(Y_test,clf.predict(X_test))*100)+'%')"
   ]
  },
  {
   "cell_type": "code",
   "execution_count": 88,
   "id": "b68efa46",
   "metadata": {},
   "outputs": [],
   "source": [
    "prediction5=clf.predict(user_input)"
   ]
  },
  {
   "cell_type": "code",
   "execution_count": 89,
   "id": "578bc47a",
   "metadata": {},
   "outputs": [],
   "source": [
    "st.subheader('Classification DecisionTreeClassifier ')\n",
    "st.write(prediction5)"
   ]
  },
  {
   "cell_type": "code",
   "execution_count": 90,
   "id": "5a69c032",
   "metadata": {},
   "outputs": [
    {
     "data": {
      "text/plain": [
       "AdaBoostClassifier(base_estimator=DecisionTreeClassifier(max_depth=4,\n",
       "                                                         min_samples_split=10),\n",
       "                   learning_rate=0.6, n_estimators=10)"
      ]
     },
     "execution_count": 90,
     "metadata": {},
     "output_type": "execute_result"
    }
   ],
   "source": [
    "#Model-7\n",
    "from sklearn.ensemble import AdaBoostClassifier\n",
    "from sklearn.tree import DecisionTreeClassifier\n",
    "adb = AdaBoostClassifier(DecisionTreeClassifier(min_samples_split=10,max_depth=4),n_estimators=10,learning_rate=0.6)\n",
    "adb.fit(X_train,Y_train)"
   ]
  },
  {
   "cell_type": "code",
   "execution_count": 91,
   "id": "b18b18d3",
   "metadata": {},
   "outputs": [],
   "source": [
    "st.subheader('AdaBoostClassifier Accuracy Score:')\n",
    "st.write(str(accuracy_score(Y_test,adb.predict(X_test))*100)+'%')"
   ]
  },
  {
   "cell_type": "code",
   "execution_count": 92,
   "id": "ec0bc1b1",
   "metadata": {},
   "outputs": [],
   "source": [
    "prediction6=adb.predict(user_input)"
   ]
  },
  {
   "cell_type": "code",
   "execution_count": 93,
   "id": "fa101e72",
   "metadata": {},
   "outputs": [],
   "source": [
    "st.subheader('Classification AdaBoostClassifier ')\n",
    "st.write(prediction6)"
   ]
  },
  {
   "cell_type": "code",
   "execution_count": null,
   "id": "f01c345b",
   "metadata": {},
   "outputs": [],
   "source": []
  }
 ],
 "metadata": {
  "kernelspec": {
   "display_name": "Python 3",
   "language": "python",
   "name": "python3"
  },
  "language_info": {
   "codemirror_mode": {
    "name": "ipython",
    "version": 3
   },
   "file_extension": ".py",
   "mimetype": "text/x-python",
   "name": "python",
   "nbconvert_exporter": "python",
   "pygments_lexer": "ipython3",
   "version": "3.8.8"
  }
 },
 "nbformat": 4,
 "nbformat_minor": 5
}
